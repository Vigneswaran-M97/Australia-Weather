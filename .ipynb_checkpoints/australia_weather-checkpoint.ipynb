{
 "cells": [
  {
   "cell_type": "markdown",
   "id": "ac129a9b",
   "metadata": {},
   "source": [
    "# Rain in Australia\n",
    "    \n",
    "    Predict next-day rain in Australia \n",
    "\n",
    "# Context\n",
    "\n",
    "    Predict next-day rain by training classification models on the target variable RainTomorrow.\n",
    "\n",
    "# Content\n",
    "\n",
    "    This dataset contains about 10 years of daily weather observations from many locations across Australia.\n",
    "\n",
    "    RainTomorrow is the target variable to predict. It means -- did it rain the next day, Yes or No? This column is Yes if the rain for that day was 1mm or more.\n",
    "\n",
    "# Source & Acknowledgements\n",
    "\n",
    "    Observations were drawn from numerous weather stations. The daily observations are available from http://www.bom.gov.au/climate/data.\n",
    "    An example of latest weather observations in Canberra: http://www.bom.gov.au/climate/dwo/IDCJDW2801.latest.shtml\n",
    "\n",
    "    Definitions adapted from http://www.bom.gov.au/climate/dwo/IDCJDW0000.shtml\n",
    "**Data source:** http://www.bom.gov.au/climate/dwo/ and http://www.bom.gov.au/climate/data.\n",
    "\n",
    "    Copyright Commonwealth of Australia 2010, Bureau of Meteorology.\n",
    "\n"
   ]
  },
  {
   "cell_type": "code",
   "execution_count": 1,
   "id": "2ae39b51",
   "metadata": {},
   "outputs": [],
   "source": [
    "import random\n",
    "import pandas as pd\n",
    "import seaborn as sns\n",
    "import matplotlib.pyplot as plt\n",
    "from sklearn.preprocessing import LabelEncoder"
   ]
  },
  {
   "cell_type": "code",
   "execution_count": 2,
   "id": "d939d5ff",
   "metadata": {},
   "outputs": [],
   "source": [
    "df = pd.read_csv(r\"D:\\data\\Aus\\weatherAUS.csv\")"
   ]
  },
  {
   "cell_type": "code",
   "execution_count": 3,
   "id": "65916e3d",
   "metadata": {},
   "outputs": [
    {
     "name": "stdout",
     "output_type": "stream",
     "text": [
      "<class 'pandas.core.frame.DataFrame'>\n",
      "RangeIndex: 145460 entries, 0 to 145459\n",
      "Data columns (total 23 columns):\n",
      " #   Column         Non-Null Count   Dtype  \n",
      "---  ------         --------------   -----  \n",
      " 0   Date           145460 non-null  object \n",
      " 1   Location       145460 non-null  object \n",
      " 2   MinTemp        143975 non-null  float64\n",
      " 3   MaxTemp        144199 non-null  float64\n",
      " 4   Rainfall       142199 non-null  float64\n",
      " 5   Evaporation    82670 non-null   float64\n",
      " 6   Sunshine       75625 non-null   float64\n",
      " 7   WindGustDir    135134 non-null  object \n",
      " 8   WindGustSpeed  135197 non-null  float64\n",
      " 9   WindDir9am     134894 non-null  object \n",
      " 10  WindDir3pm     141232 non-null  object \n",
      " 11  WindSpeed9am   143693 non-null  float64\n",
      " 12  WindSpeed3pm   142398 non-null  float64\n",
      " 13  Humidity9am    142806 non-null  float64\n",
      " 14  Humidity3pm    140953 non-null  float64\n",
      " 15  Pressure9am    130395 non-null  float64\n",
      " 16  Pressure3pm    130432 non-null  float64\n",
      " 17  Cloud9am       89572 non-null   float64\n",
      " 18  Cloud3pm       86102 non-null   float64\n",
      " 19  Temp9am        143693 non-null  float64\n",
      " 20  Temp3pm        141851 non-null  float64\n",
      " 21  RainToday      142199 non-null  object \n",
      " 22  RainTomorrow   142193 non-null  object \n",
      "dtypes: float64(16), object(7)\n",
      "memory usage: 25.5+ MB\n"
     ]
    }
   ],
   "source": [
    "df.info()"
   ]
  },
  {
   "cell_type": "code",
   "execution_count": 4,
   "id": "3404eacf",
   "metadata": {},
   "outputs": [
    {
     "data": {
      "text/plain": [
       "Date                 0\n",
       "Location             0\n",
       "MinTemp           1485\n",
       "MaxTemp           1261\n",
       "Rainfall          3261\n",
       "Evaporation      62790\n",
       "Sunshine         69835\n",
       "WindGustDir      10326\n",
       "WindGustSpeed    10263\n",
       "WindDir9am       10566\n",
       "WindDir3pm        4228\n",
       "WindSpeed9am      1767\n",
       "WindSpeed3pm      3062\n",
       "Humidity9am       2654\n",
       "Humidity3pm       4507\n",
       "Pressure9am      15065\n",
       "Pressure3pm      15028\n",
       "Cloud9am         55888\n",
       "Cloud3pm         59358\n",
       "Temp9am           1767\n",
       "Temp3pm           3609\n",
       "RainToday         3261\n",
       "RainTomorrow      3267\n",
       "dtype: int64"
      ]
     },
     "execution_count": 4,
     "metadata": {},
     "output_type": "execute_result"
    }
   ],
   "source": [
    "df.isnull().sum()"
   ]
  },
  {
   "cell_type": "code",
   "execution_count": 6,
   "id": "6a322641",
   "metadata": {},
   "outputs": [],
   "source": [
    "def Fill_null_values(df,float_columns,str_columns,wind_list,rain_list,choice,Wind_dir):\n",
    "    \n",
    "    for float_null_value in float_columns:\n",
    "        for j in range(df[float_null_value].isnull().sum()):\n",
    "            value = round(random.uniform(df[float_null_value].max(),df[float_null_value].min()),1)\n",
    "            df[float_null_value].fillna(value,inplace=True)\n",
    "            \n",
    "    for str_null_value in str_columns[2:]:\n",
    "        if str_null_value in wind_list:\n",
    "            for a in range(df[str_null_value].isnull().sum()):\n",
    "                null = random.randint(0,len(Wind_Dir)-1)\n",
    "                df[str_null_value].fillna(Wind_Dir[null],inplace= True)\n",
    "        elif str_null_value in rain_list:\n",
    "             for a in range(df[str_null_value].isnull().sum()):\n",
    "                null = random.randint(0,len(choice)-1)\n",
    "                df[str_null_value].fillna(choice[null],inplace= True)\n",
    "    \n",
    "    return df.isnull().sum()"
   ]
  },
  {
   "cell_type": "code",
   "execution_count": null,
   "id": "f1aba816",
   "metadata": {},
   "outputs": [],
   "source": [
    "str_columns = df.select_dtypes(include=['object']).columns\n",
    "float_columns = df.select_dtypes(include=['float']).columns\n",
    "\n",
    "choice = ['Yes',\"No\"]\n",
    "rain_list = ['RainToday','RainTomorrow']\n",
    "wind_list = ['WindGustDir','WindDir9am','WindDir3pm']\n",
    "Wind_Dir = ['W', 'WNW', 'WSW', 'NE', 'NNW', 'N', 'NNE', 'SW', 'ENE','SSE', 'S','NW', 'SE', 'ESE', 'E', 'SSW']\n",
    "\n",
    "Fill_null_values(df=df,\n",
    "                 float_columns=float_columns,\n",
    "                 str_columns=str_columns,\n",
    "                 wind_list=wind_list,\n",
    "                 rain_list=rain_list,\n",
    "                 choice=choice,\n",
    "                 Wind_dir=Wind_Dir)"
   ]
  },
  {
   "cell_type": "code",
   "execution_count": null,
   "id": "314b2b27",
   "metadata": {},
   "outputs": [],
   "source": [
    "df.info()"
   ]
  },
  {
   "cell_type": "code",
   "execution_count": null,
   "id": "42afad29",
   "metadata": {},
   "outputs": [],
   "source": [
    "def encode(df):\n",
    "    df1 = df\n",
    "    encode_columns = list(df.select_dtypes(include=['object']))\n",
    "    led = LabelEncoder()\n",
    "    for columns in encode_columns:\n",
    "        try:\n",
    "            df[columns] = led.fit_transform(df[columns])\n",
    "        except:\n",
    "            print('Some Columns have null values or it not a Object dtype')\n",
    "    return df"
   ]
  },
  {
   "cell_type": "code",
   "execution_count": null,
   "id": "4e6a904c",
   "metadata": {},
   "outputs": [],
   "source": [
    "encode(df=df)"
   ]
  },
  {
   "cell_type": "code",
   "execution_count": null,
   "id": "d3e559f9",
   "metadata": {},
   "outputs": [],
   "source": [
    "plt.figure(figsize=(20,10))\n",
    "sns.heatmap(df.corr(),annot=True, cmap='RdYlGn')"
   ]
  },
  {
   "cell_type": "code",
   "execution_count": null,
   "id": "8990b2c1",
   "metadata": {},
   "outputs": [],
   "source": [
    "from sklearn.model_selection import train_test_split\n",
    "X_train,X_test,y_train,y_test = train_test_split(df.drop(columns=['RainTomorrow']),\n",
    "                                                 df.RainTomorrow,\n",
    "                                                test_size=0.3,\n",
    "                                                random_state=42)"
   ]
  },
  {
   "cell_type": "code",
   "execution_count": null,
   "id": "fd7b56a2",
   "metadata": {},
   "outputs": [],
   "source": [
    "X_train.head()"
   ]
  },
  {
   "cell_type": "code",
   "execution_count": null,
   "id": "ca1a50c6",
   "metadata": {},
   "outputs": [],
   "source": [
    "from sklearn.feature_selection import mutual_info_classif\n",
    "\n",
    "mutual_info = mutual_info_classif(X_train,y_train)\n",
    "mutual_info"
   ]
  },
  {
   "cell_type": "code",
   "execution_count": null,
   "id": "0af2b4ea",
   "metadata": {
    "scrolled": true
   },
   "outputs": [],
   "source": [
    "mutual_info = pd.Series(mutual_info)\n",
    "mutual_info.index = X_train.columns\n",
    "mutual_info.sort_values(ascending=False)"
   ]
  },
  {
   "cell_type": "code",
   "execution_count": null,
   "id": "f7354baa",
   "metadata": {},
   "outputs": [],
   "source": [
    "from sklearn.linear_model import LogisticRegression\n",
    "from sklearn.neighbors import KNeighborsClassifier\n",
    "from sklearn.ensemble import RandomForestClassifier\n",
    "from sklearn.svm import SVC\n",
    "\n",
    "from sklearn.metrics import classification_report"
   ]
  },
  {
   "cell_type": "code",
   "execution_count": null,
   "id": "149ccb5b",
   "metadata": {},
   "outputs": [],
   "source": [
    "%time \n",
    "model = LogisticRegression()\n",
    "model.fit(X_train,y_train)\n",
    "prd = model.predict(X_test)\n",
    "print(classification_report(y_test,prd))"
   ]
  },
  {
   "cell_type": "code",
   "execution_count": null,
   "id": "72f4f6c8",
   "metadata": {},
   "outputs": [],
   "source": [
    "%time \n",
    "model = KNeighborsClassifier()\n",
    "model.fit(X_train,y_train)\n",
    "prd = model.predict(X_test)\n",
    "print(classification_report(y_test,prd))"
   ]
  },
  {
   "cell_type": "code",
   "execution_count": null,
   "id": "705e8eb9",
   "metadata": {},
   "outputs": [],
   "source": [
    "%time \n",
    "model = SVC(kernel='linear')\n",
    "model.fit(X_train,y_train)\n",
    "prd = model.predict(X_test)\n",
    "print(classification_report(y_test,prd))"
   ]
  },
  {
   "cell_type": "code",
   "execution_count": null,
   "id": "1426d7e4",
   "metadata": {},
   "outputs": [],
   "source": [
    "%time \n",
    "model = RandomForestClassifier(random_state=42)\n",
    "model.fit(X_train,y_train)\n",
    "prd = model.predict(X_test)\n",
    "print(classification_report(y_test,prd))"
   ]
  }
 ],
 "metadata": {
  "kernelspec": {
   "display_name": "Python 3 (ipykernel)",
   "language": "python",
   "name": "python3"
  },
  "language_info": {
   "codemirror_mode": {
    "name": "ipython",
    "version": 3
   },
   "file_extension": ".py",
   "mimetype": "text/x-python",
   "name": "python",
   "nbconvert_exporter": "python",
   "pygments_lexer": "ipython3",
   "version": "3.8.0"
  }
 },
 "nbformat": 4,
 "nbformat_minor": 5
}
